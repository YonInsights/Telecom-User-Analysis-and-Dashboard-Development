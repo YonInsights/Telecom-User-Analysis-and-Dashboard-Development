{
 "cells": [
  {
   "cell_type": "code",
   "execution_count": 11,
   "metadata": {},
   "outputs": [],
   "source": [
    "# Import necessary libraries\n",
    "import os\n",
    "import sys\n",
    "\n",
    "# Add the scripts folder to the Python path\n",
    "sys.path.append(os.path.abspath(\"../scripts\"))\n",
    "import pandas as pd\n",
    "from load_data import fetch_data\n",
    "from sklearn.preprocessing import MinMaxScaler\n",
    "\n"
   ]
  },
  {
   "cell_type": "code",
   "execution_count": 5,
   "metadata": {},
   "outputs": [
    {
     "name": "stderr",
     "output_type": "stream",
     "text": [
      "d:\\Kifya_training\\Week 2\\Telecom-User-Analysis-and-Dashboard-Development\\scripts\\load_data.py:31: UserWarning: pandas only supports SQLAlchemy connectable (engine/connection) or database string URI or sqlite3 DBAPI2 connection. Other DBAPI2 objects are not tested. Please consider using SQLAlchemy.\n",
      "  df = pd.read_sql_query(query, conn)\n"
     ]
    }
   ],
   "source": [
    "\n",
    "# SQL query to fetch data\n",
    "query = \"SELECT * FROM xdr_data ;\"  \n",
    "\n",
    "# Load the data\n",
    "df = fetch_data(query)"
   ]
  },
  {
   "cell_type": "code",
   "execution_count": null,
   "metadata": {},
   "outputs": [],
   "source": [
    "\n",
    "# Aggregate the metrics\n",
    "aggregated_metrics = df.groupby('MSISDN/Number').agg({\n",
    "    'Dur. (ms)': 'sum',  # Total session duration per customer\n",
    "    'Total DL (Bytes)': 'sum',  # Total download traffic per customer\n",
    "    'Total UL (Bytes)': 'sum',  # Total upload traffic per customer\n",
    "}).reset_index()\n",
    "\n"
   ]
  },
  {
   "cell_type": "code",
   "execution_count": 7,
   "metadata": {},
   "outputs": [],
   "source": [
    "# Calculate session frequency\n",
    "session_frequency = df['MSISDN/Number'].value_counts().reset_index()\n",
    "session_frequency.columns = ['MSISDN/Number', 'Session Frequency']\n",
    "\n",
    "\n"
   ]
  },
  {
   "cell_type": "code",
   "execution_count": 8,
   "metadata": {},
   "outputs": [],
   "source": [
    "# Merge session frequency with other metrics\n",
    "aggregated_metrics = pd.merge(aggregated_metrics, session_frequency, on='MSISDN/Number')\n",
    "\n",
    "# Calculate total traffic (Download + Upload)\n",
    "aggregated_metrics['Total Traffic (Bytes)'] = aggregated_metrics['Total DL (Bytes)'] + aggregated_metrics['Total UL (Bytes)']\n",
    "\n"
   ]
  },
  {
   "cell_type": "code",
   "execution_count": 9,
   "metadata": {},
   "outputs": [],
   "source": [
    "# Sort the aggregated data by each metric for ranking\n",
    "top_10_duration = aggregated_metrics.sort_values(by='Dur. (ms)', ascending=False).head(10)\n",
    "top_10_traffic = aggregated_metrics.sort_values(by='Total Traffic (Bytes)', ascending=False).head(10)\n",
    "top_10_frequency = aggregated_metrics.sort_values(by='Session Frequency', ascending=False).head(10)\n",
    "\n"
   ]
  },
  {
   "cell_type": "code",
   "execution_count": 10,
   "metadata": {},
   "outputs": [
    {
     "name": "stdout",
     "output_type": "stream",
     "text": [
      "Top 10 Customers by Session Duration:\n",
      "       MSISDN/Number   Dur. (ms)  Total DL (Bytes)  Total UL (Bytes)  \\\n",
      "13180   3.362578e+10  18553754.0      7.770043e+09       729577380.0   \n",
      "6437    3.361489e+10   9966898.0      8.156743e+09       689483001.0   \n",
      "92923   3.376054e+10   9279434.0      7.811295e+09       703478581.0   \n",
      "13526   3.362632e+10   8791927.0      7.301517e+09       669650721.0   \n",
      "65118   3.366716e+10   8744914.0      5.052068e+09       566326364.0   \n",
      "50281   3.366284e+10   6614270.0      3.593674e+09       406424372.0   \n",
      "57160   3.366469e+10   6288730.0      5.279827e+09       402180804.0   \n",
      "666     3.360313e+10   6287761.0      4.540607e+09       435587631.0   \n",
      "66029   3.366746e+10   5649882.0      2.334299e+09       266222647.0   \n",
      "92577   3.376041e+10   5321667.0      6.610852e+09       521518890.0   \n",
      "\n",
      "       Session Frequency  Total Traffic (Bytes)  \n",
      "13180                 17           8.499621e+09  \n",
      "6437                  17           8.846226e+09  \n",
      "92923                 15           8.514774e+09  \n",
      "13526                 18           7.971167e+09  \n",
      "65118                 13           5.618394e+09  \n",
      "50281                  9           4.000098e+09  \n",
      "57160                  9           5.682007e+09  \n",
      "666                   12           4.976195e+09  \n",
      "66029                  6           2.600522e+09  \n",
      "92577                 12           7.132371e+09  \n",
      "\n",
      "Top 10 Customers by Total Traffic:\n",
      "       MSISDN/Number   Dur. (ms)  Total DL (Bytes)  Total UL (Bytes)  \\\n",
      "6437    3.361489e+10   9966898.0      8.156743e+09       689483001.0   \n",
      "92923   3.376054e+10   9279434.0      7.811295e+09       703478581.0   \n",
      "13180   3.362578e+10  18553754.0      7.770043e+09       729577380.0   \n",
      "13526   3.362632e+10   8791927.0      7.301517e+09       669650721.0   \n",
      "76363   3.367588e+10   4865947.0      7.309542e+09       581568792.0   \n",
      "37052   3.365973e+10   4035428.0      7.081602e+09       624260321.0   \n",
      "63028   3.366646e+10   4536757.0      6.903440e+09       405060976.0   \n",
      "92577   3.376041e+10   5321667.0      6.610852e+09       521518890.0   \n",
      "57241   3.366471e+10   2927785.0      6.400774e+09       471244453.0   \n",
      "86455   3.369879e+10   5169128.0      6.010556e+09       530343105.0   \n",
      "\n",
      "       Session Frequency  Total Traffic (Bytes)  \n",
      "6437                  17           8.846226e+09  \n",
      "92923                 15           8.514774e+09  \n",
      "13180                 17           8.499621e+09  \n",
      "13526                 18           7.971167e+09  \n",
      "76363                 15           7.891111e+09  \n",
      "37052                 16           7.705863e+09  \n",
      "63028                 11           7.308501e+09  \n",
      "92577                 12           7.132371e+09  \n",
      "57241                 11           6.872018e+09  \n",
      "86455                 11           6.540899e+09  \n",
      "\n",
      "Top 10 Customers by Session Frequency:\n",
      "       MSISDN/Number   Dur. (ms)  Total DL (Bytes)  Total UL (Bytes)  \\\n",
      "13526   3.362632e+10   8791927.0      7.301517e+09       669650721.0   \n",
      "6437    3.361489e+10   9966898.0      8.156743e+09       689483001.0   \n",
      "13180   3.362578e+10  18553754.0      7.770043e+09       729577380.0   \n",
      "37052   3.365973e+10   4035428.0      7.081602e+09       624260321.0   \n",
      "76363   3.367588e+10   4865947.0      7.309542e+09       581568792.0   \n",
      "92923   3.376054e+10   9279434.0      7.811295e+09       703478581.0   \n",
      "65118   3.366716e+10   8744914.0      5.052068e+09       566326364.0   \n",
      "1279    3.360452e+10   5207990.0      5.096079e+09       391775856.0   \n",
      "92577   3.376041e+10   5321667.0      6.610852e+09       521518890.0   \n",
      "666     3.360313e+10   6287761.0      4.540607e+09       435587631.0   \n",
      "\n",
      "       Session Frequency  Total Traffic (Bytes)  \n",
      "13526                 18           7.971167e+09  \n",
      "6437                  17           8.846226e+09  \n",
      "13180                 17           8.499621e+09  \n",
      "37052                 16           7.705863e+09  \n",
      "76363                 15           7.891111e+09  \n",
      "92923                 15           8.514774e+09  \n",
      "65118                 13           5.618394e+09  \n",
      "1279                  12           5.487855e+09  \n",
      "92577                 12           7.132371e+09  \n",
      "666                   12           4.976195e+09  \n"
     ]
    }
   ],
   "source": [
    "# Display the top 10 customers for each metric\n",
    "print(\"Top 10 Customers by Session Duration:\")\n",
    "print(top_10_duration)\n",
    "\n",
    "print(\"\\nTop 10 Customers by Total Traffic:\")\n",
    "print(top_10_traffic)\n",
    "\n",
    "print(\"\\nTop 10 Customers by Session Frequency:\")\n",
    "print(top_10_frequency)"
   ]
  },
  {
   "cell_type": "code",
   "execution_count": 12,
   "metadata": {},
   "outputs": [],
   "source": [
    "\n",
    "\n",
    "# Select the metrics for normalization\n",
    "metrics_to_normalize = ['Session Frequency', 'Dur. (ms)', 'Total Traffic (Bytes)']\n",
    "\n",
    "# Initialize the scaler\n",
    "scaler = MinMaxScaler()\n",
    "\n",
    "# Normalize the metrics\n",
    "normalized_data = scaler.fit_transform(aggregated_metrics[metrics_to_normalize])\n",
    "\n",
    "# Convert normalized data back to a DataFrame\n",
    "normalized_df = pd.DataFrame(normalized_data, columns=metrics_to_normalize)\n",
    "\n",
    "# Add the MSISDN/Number column to the normalized DataFrame for reference\n",
    "normalized_df['MSISDN/Number'] = aggregated_metrics['MSISDN/Number']\n",
    "\n",
    "\n"
   ]
  },
  {
   "cell_type": "code",
   "execution_count": 13,
   "metadata": {},
   "outputs": [
    {
     "name": "stdout",
     "output_type": "stream",
     "text": [
      "Normalized Data:\n",
      "   Session Frequency  Dur. (ms)  Total Traffic (Bytes)  MSISDN/Number\n",
      "0           0.000000   0.005908               0.095931   3.360100e+10\n",
      "1           0.000000   0.009387               0.014026   3.360100e+10\n",
      "2           0.000000   0.006892               0.063851   3.360100e+10\n",
      "3           0.000000   0.002304               0.044148   3.360101e+10\n",
      "4           0.058824   0.001615               0.161598   3.360101e+10\n"
     ]
    }
   ],
   "source": [
    "# Display the first few rows of the normalized data\n",
    "print(\"Normalized Data:\")\n",
    "print(normalized_df.head())"
   ]
  }
 ],
 "metadata": {
  "kernelspec": {
   "display_name": "venv",
   "language": "python",
   "name": "python3"
  },
  "language_info": {
   "codemirror_mode": {
    "name": "ipython",
    "version": 3
   },
   "file_extension": ".py",
   "mimetype": "text/x-python",
   "name": "python",
   "nbconvert_exporter": "python",
   "pygments_lexer": "ipython3",
   "version": "3.12.8"
  }
 },
 "nbformat": 4,
 "nbformat_minor": 2
}
