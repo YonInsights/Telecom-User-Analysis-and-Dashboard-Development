{
 "cells": [
  {
   "cell_type": "code",
   "execution_count": 3,
   "metadata": {},
   "outputs": [
    {
     "name": "stderr",
     "output_type": "stream",
     "text": [
      "d:\\Kifya_training\\Week 2\\Telecom-User-Analysis-and-Dashboard-Development\\scripts\\load_data.py:31: UserWarning: pandas only supports SQLAlchemy connectable (engine/connection) or database string URI or sqlite3 DBAPI2 connection. Other DBAPI2 objects are not tested. Please consider using SQLAlchemy.\n",
      "  df = pd.read_sql_query(query, conn)\n"
     ]
    }
   ],
   "source": [
    "# Import necessary libraries\n",
    "import os\n",
    "import sys\n",
    "\n",
    "# Add the scripts folder to the Python path\n",
    "sys.path.append(os.path.abspath(\"../scripts\"))\n",
    "\n",
    "# Import functions\n",
    "from load_data import fetch_data\n",
    "# SQL query to fetch data\n",
    "query = \"SELECT * FROM xdr_data ;\"  \n",
    "\n",
    "# Load the data\n",
    "df = fetch_data(query)"
   ]
  },
  {
   "cell_type": "code",
   "execution_count": 8,
   "metadata": {},
   "outputs": [
    {
     "name": "stdout",
     "output_type": "stream",
     "text": [
      "0    33664962239\n",
      "1    33681854413\n",
      "2    33760627129\n",
      "3    33750343200\n",
      "4    33699795932\n",
      "Name: MSISDN/Number, dtype: object\n"
     ]
    }
   ],
   "source": [
    "# Convert 'MSISDN/Number' to string and remove decimals\n",
    "df['MSISDN/Number'] = df['MSISDN/Number'].astype(str).str.replace('.0', '', regex=False)\n",
    "\n",
    "# Check the result\n",
    "print(df['MSISDN/Number'].head())\n"
   ]
  },
  {
   "cell_type": "code",
   "execution_count": 9,
   "metadata": {},
   "outputs": [
    {
     "name": "stdout",
     "output_type": "stream",
     "text": [
      "   MSISDN/Number  Number of xDR Sessions\n",
      "0  3197020876596                       1\n",
      "1    33601001722                       1\n",
      "2    33601001754                       1\n",
      "3    33601002511                       1\n",
      "4    33601007832                       1\n"
     ]
    }
   ],
   "source": [
    "# Aggregate the number of xDR sessions per user\n",
    "xdr_sessions = df.groupby('MSISDN/Number').size().reset_index(name='Number of xDR Sessions')\n",
    "\n",
    "# Display the first few rows of the result\n",
    "print(xdr_sessions.head())\n"
   ]
  }
 ],
 "metadata": {
  "kernelspec": {
   "display_name": "venv",
   "language": "python",
   "name": "python3"
  },
  "language_info": {
   "codemirror_mode": {
    "name": "ipython",
    "version": 3
   },
   "file_extension": ".py",
   "mimetype": "text/x-python",
   "name": "python",
   "nbconvert_exporter": "python",
   "pygments_lexer": "ipython3",
   "version": "3.12.8"
  }
 },
 "nbformat": 4,
 "nbformat_minor": 2
}
