{
 "cells": [
  {
   "cell_type": "code",
   "execution_count": 1,
   "metadata": {},
   "outputs": [],
   "source": [
    "# Import necessary libraries\n",
    "import os\n",
    "import sys\n",
    "\n",
    "# Add the scripts folder to the Python path\n",
    "sys.path.append(os.path.abspath(\"../scripts\"))\n",
    "import pandas as pd\n",
    "from load_data import fetch_data\n",
    "from data_aggregation import aggregate_user_data\n",
    "from top_10_values_analysis import top_10_values,bottom_10_values\n"
   ]
  },
  {
   "cell_type": "code",
   "execution_count": 2,
   "metadata": {},
   "outputs": [
    {
     "name": "stderr",
     "output_type": "stream",
     "text": [
      "d:\\Kifya_training\\Week 2\\Telecom-User-Analysis-and-Dashboard-Development\\scripts\\load_data.py:31: UserWarning: pandas only supports SQLAlchemy connectable (engine/connection) or database string URI or sqlite3 DBAPI2 connection. Other DBAPI2 objects are not tested. Please consider using SQLAlchemy.\n",
      "  df = pd.read_sql_query(query, conn)\n"
     ]
    }
   ],
   "source": [
    "\n",
    "# SQL query to fetch data\n",
    "query = \"SELECT * FROM xdr_data ;\"  \n",
    "\n",
    "# Load the data\n",
    "df = fetch_data(query)"
   ]
  },
  {
   "cell_type": "code",
   "execution_count": 3,
   "metadata": {},
   "outputs": [
    {
     "data": {
      "text/html": [
       "<div>\n",
       "<style scoped>\n",
       "    .dataframe tbody tr th:only-of-type {\n",
       "        vertical-align: middle;\n",
       "    }\n",
       "\n",
       "    .dataframe tbody tr th {\n",
       "        vertical-align: top;\n",
       "    }\n",
       "\n",
       "    .dataframe thead th {\n",
       "        text-align: right;\n",
       "    }\n",
       "</style>\n",
       "<table border=\"1\" class=\"dataframe\">\n",
       "  <thead>\n",
       "    <tr style=\"text-align: right;\">\n",
       "      <th></th>\n",
       "      <th>MSISDN/Number</th>\n",
       "      <th>average_rtt_dl</th>\n",
       "      <th>average_rtt_ul</th>\n",
       "      <th>average_bearer_tp_dl</th>\n",
       "      <th>average_bearer_tp_ul</th>\n",
       "      <th>average_tcp_dl_retrans</th>\n",
       "      <th>average_tcp_ul_retrans</th>\n",
       "      <th>handset_type</th>\n",
       "    </tr>\n",
       "  </thead>\n",
       "  <tbody>\n",
       "    <tr>\n",
       "      <th>0</th>\n",
       "      <td>3.360100e+10</td>\n",
       "      <td>46.000000</td>\n",
       "      <td>0.000000</td>\n",
       "      <td>37.0</td>\n",
       "      <td>39.0</td>\n",
       "      <td>1.685339e+07</td>\n",
       "      <td>624008.18488</td>\n",
       "      <td>Huawei P20 Lite Huawei Nova 3E</td>\n",
       "    </tr>\n",
       "    <tr>\n",
       "      <th>1</th>\n",
       "      <td>3.360100e+10</td>\n",
       "      <td>30.000000</td>\n",
       "      <td>1.000000</td>\n",
       "      <td>48.0</td>\n",
       "      <td>51.0</td>\n",
       "      <td>1.685339e+07</td>\n",
       "      <td>624008.18488</td>\n",
       "      <td>Apple iPhone 7 (A1778)</td>\n",
       "    </tr>\n",
       "    <tr>\n",
       "      <th>2</th>\n",
       "      <td>3.360100e+10</td>\n",
       "      <td>119.182869</td>\n",
       "      <td>16.771129</td>\n",
       "      <td>48.0</td>\n",
       "      <td>49.0</td>\n",
       "      <td>1.685339e+07</td>\n",
       "      <td>624008.18488</td>\n",
       "      <td>Unknown</td>\n",
       "    </tr>\n",
       "    <tr>\n",
       "      <th>3</th>\n",
       "      <td>3.360101e+10</td>\n",
       "      <td>69.000000</td>\n",
       "      <td>15.000000</td>\n",
       "      <td>204.0</td>\n",
       "      <td>44.0</td>\n",
       "      <td>1.066000e+03</td>\n",
       "      <td>624008.18488</td>\n",
       "      <td>Apple iPhone 5S (A1457)</td>\n",
       "    </tr>\n",
       "    <tr>\n",
       "      <th>4</th>\n",
       "      <td>3.360101e+10</td>\n",
       "      <td>57.000000</td>\n",
       "      <td>2.500000</td>\n",
       "      <td>20197.5</td>\n",
       "      <td>8224.5</td>\n",
       "      <td>9.349630e+06</td>\n",
       "      <td>21202.00000</td>\n",
       "      <td>Apple iPhone Se (A1723)</td>\n",
       "    </tr>\n",
       "  </tbody>\n",
       "</table>\n",
       "</div>"
      ],
      "text/plain": [
       "   MSISDN/Number  average_rtt_dl  average_rtt_ul  average_bearer_tp_dl  \\\n",
       "0   3.360100e+10       46.000000        0.000000                  37.0   \n",
       "1   3.360100e+10       30.000000        1.000000                  48.0   \n",
       "2   3.360100e+10      119.182869       16.771129                  48.0   \n",
       "3   3.360101e+10       69.000000       15.000000                 204.0   \n",
       "4   3.360101e+10       57.000000        2.500000               20197.5   \n",
       "\n",
       "   average_bearer_tp_ul  average_tcp_dl_retrans  average_tcp_ul_retrans  \\\n",
       "0                  39.0            1.685339e+07            624008.18488   \n",
       "1                  51.0            1.685339e+07            624008.18488   \n",
       "2                  49.0            1.685339e+07            624008.18488   \n",
       "3                  44.0            1.066000e+03            624008.18488   \n",
       "4                8224.5            9.349630e+06             21202.00000   \n",
       "\n",
       "                     handset_type  \n",
       "0  Huawei P20 Lite Huawei Nova 3E  \n",
       "1          Apple iPhone 7 (A1778)  \n",
       "2                         Unknown  \n",
       "3         Apple iPhone 5S (A1457)  \n",
       "4         Apple iPhone Se (A1723)  "
      ]
     },
     "execution_count": 3,
     "metadata": {},
     "output_type": "execute_result"
    }
   ],
   "source": [
    "#Apply aggregation (as already defined in data_aggregation)\n",
    "aggregated_data = aggregate_user_data(df)\n",
    "# Inspect aggregated data\n",
    "aggregated_data.head()\n"
   ]
  },
  {
   "cell_type": "code",
   "execution_count": 4,
   "metadata": {},
   "outputs": [
    {
     "name": "stdout",
     "output_type": "stream",
     "text": [
      "      Bearer Id            Start  Start ms              End  End ms  \\\n",
      "0  1.311448e+19   4/4/2019 12:01     770.0  4/25/2019 14:35   662.0   \n",
      "1  1.311448e+19   4/9/2019 13:04     235.0   4/25/2019 8:15   606.0   \n",
      "2  1.311448e+19   4/9/2019 17:42       1.0  4/25/2019 11:58   652.0   \n",
      "3  1.311448e+19   4/10/2019 0:31     486.0   4/25/2019 7:36   171.0   \n",
      "4  1.311448e+19  4/12/2019 20:10     565.0  4/25/2019 10:40   954.0   \n",
      "\n",
      "   Dur. (ms)          IMSI  MSISDN/Number          IMEI  \\\n",
      "0  1823652.0  2.082014e+14   3.366496e+10  3.552121e+13   \n",
      "1  1365104.0  2.082019e+14   3.368185e+10  3.579401e+13   \n",
      "2  1361762.0  2.082003e+14   3.376063e+10  3.528151e+13   \n",
      "3  1321509.0  2.082014e+14   3.375034e+10  3.535661e+13   \n",
      "4  1089009.0  2.082014e+14   3.369980e+10  3.540701e+13   \n",
      "\n",
      "      Last Location Name  ...  Youtube DL (Bytes)  Youtube UL (Bytes)  \\\n",
      "0  9.16456699548519E+015  ...          15854611.0           2501332.0   \n",
      "1                L77566A  ...          20247395.0          19111729.0   \n",
      "2                D42335A  ...          19725661.0          14699576.0   \n",
      "3                T21824A  ...          21388122.0          15146643.0   \n",
      "4                D88865A  ...          15259380.0          18962873.0   \n",
      "\n",
      "   Netflix DL (Bytes)  Netflix UL (Bytes)  Gaming DL (Bytes)  \\\n",
      "0           8198936.0           9656251.0        278082303.0   \n",
      "1          18338413.0          17227132.0        608750074.0   \n",
      "2          17587794.0           6163408.0        229584621.0   \n",
      "3          13994646.0           1097942.0        799538153.0   \n",
      "4          17124581.0            415218.0        527707248.0   \n",
      "\n",
      "   Gaming UL (Bytes)  Other DL (Bytes)  Other UL (Bytes)  Total UL (Bytes)  \\\n",
      "0         14344150.0       171744450.0         8814393.0        36749741.0   \n",
      "1          1170709.0       526904238.0        15055145.0        53800391.0   \n",
      "2           395630.0       410692588.0         4215763.0        27883638.0   \n",
      "3         10849722.0       749039933.0        12797283.0        43324218.0   \n",
      "4          3529801.0       550709500.0        13910322.0        38542814.0   \n",
      "\n",
      "   Total DL (Bytes)  \n",
      "0       308879636.0  \n",
      "1       653384965.0  \n",
      "2       279807335.0  \n",
      "3       846028530.0  \n",
      "4       569138589.0  \n",
      "\n",
      "[5 rows x 55 columns]\n"
     ]
    }
   ],
   "source": [
    "# Fill missing values without using inplace=True\n",
    "df['TCP DL Retrans. Vol (Bytes)'] = df['TCP DL Retrans. Vol (Bytes)'].fillna(df['TCP DL Retrans. Vol (Bytes)'].mean())\n",
    "df['TCP UL Retrans. Vol (Bytes)'] = df['TCP UL Retrans. Vol (Bytes)'].fillna(df['TCP UL Retrans. Vol (Bytes)'].mean())\n",
    "df['Avg RTT DL (ms)'] = df['Avg RTT DL (ms)'].fillna(df['Avg RTT DL (ms)'].mean())\n",
    "df['Avg RTT UL (ms)'] = df['Avg RTT UL (ms)'].fillna(df['Avg RTT UL (ms)'].mean())\n",
    "df['Avg Bearer TP DL (kbps)'] = df['Avg Bearer TP DL (kbps)'].fillna(df['Avg Bearer TP DL (kbps)'].mean())\n",
    "df['Avg Bearer TP UL (kbps)'] = df['Avg Bearer TP UL (kbps)'].fillna(df['Avg Bearer TP UL (kbps)'].mean())\n",
    "\n",
    "# Replacing missing values in 'Handset Type' with the mode (most frequent value)\n",
    "df['Handset Type'] = df['Handset Type'].fillna(df['Handset Type'].mode()[0])\n",
    "\n",
    "# Check the DataFrame after handling missing values\n",
    "print(df.head())\n"
   ]
  },
  {
   "cell_type": "code",
   "execution_count": 5,
   "metadata": {},
   "outputs": [
    {
     "data": {
      "text/plain": [
       "77979    4294425570.00\n",
       "135678   4291380336.00\n",
       "34645    4289876615.00\n",
       "140813   4289487601.00\n",
       "3782     4288060364.00\n",
       "119684   4275259349.00\n",
       "39637    4268431996.00\n",
       "76990    4259996826.00\n",
       "59016    4256650017.00\n",
       "41209    4254643827.00\n",
       "Name: TCP DL Retrans. Vol (Bytes), dtype: float64"
      ]
     },
     "execution_count": 5,
     "metadata": {},
     "output_type": "execute_result"
    }
   ],
   "source": [
    "# Adjust pandas display settings to avoid scientific notation\n",
    "pd.set_option('display.float_format', '{:.2f}'.format)\n",
    "\n",
    "# Now call the top_10_values function\n",
    "top_10_values(df, 'TCP DL Retrans. Vol (Bytes)')\n"
   ]
  },
  {
   "cell_type": "code",
   "execution_count": 6,
   "metadata": {},
   "outputs": [
    {
     "data": {
      "text/plain": [
       "59717    2.00\n",
       "125094   2.00\n",
       "2850     4.00\n",
       "39610    4.00\n",
       "52488    4.00\n",
       "60376    4.00\n",
       "60426    4.00\n",
       "75093    4.00\n",
       "100314   4.00\n",
       "143429   4.00\n",
       "Name: TCP DL Retrans. Vol (Bytes), dtype: float64"
      ]
     },
     "execution_count": 6,
     "metadata": {},
     "output_type": "execute_result"
    }
   ],
   "source": [
    "\n",
    "\n",
    "# Specify the column name \n",
    "bottom_10_values(df, 'TCP DL Retrans. Vol (Bytes)')"
   ]
  }
 ],
 "metadata": {
  "kernelspec": {
   "display_name": "venv",
   "language": "python",
   "name": "python3"
  },
  "language_info": {
   "codemirror_mode": {
    "name": "ipython",
    "version": 3
   },
   "file_extension": ".py",
   "mimetype": "text/x-python",
   "name": "python",
   "nbconvert_exporter": "python",
   "pygments_lexer": "ipython3",
   "version": "3.12.8"
  }
 },
 "nbformat": 4,
 "nbformat_minor": 2
}
