{
 "cells": [
  {
   "cell_type": "code",
   "execution_count": 15,
   "metadata": {},
   "outputs": [],
   "source": [
    "# Import necessary libraries\n",
    "import os\n",
    "import sys\n",
    "\n",
    "# Add the scripts folder to the Python path\n",
    "sys.path.append(os.path.abspath(\"../scripts\"))\n",
    "import matplotlib.pyplot as plt\n",
    "import seaborn as sns\n",
    "import pandas as pd\n",
    "from load_data import fetch_data\n",
    "from data_aggregation import aggregate_user_data\n",
    "from top_10_values_analysis import (\n",
    "    top_10_values,\n",
    "    bottom_10_values,\n",
    "    most_frequent_values,\n",
    "    improved_summary,\n",
    "    improved_summary_v2,\n",
    "    improved_summary_v3,\n",
    ")\n",
    "from visualizations import plot_throughput_distribution, plot_tcp_retransmission, plot_rtt_distribution"
   ]
  },
  {
   "cell_type": "code",
   "execution_count": 16,
   "metadata": {},
   "outputs": [
    {
     "name": "stderr",
     "output_type": "stream",
     "text": [
      "d:\\Kifya_training\\Week 2\\Telecom-User-Analysis-and-Dashboard-Development\\scripts\\load_data.py:31: UserWarning: pandas only supports SQLAlchemy connectable (engine/connection) or database string URI or sqlite3 DBAPI2 connection. Other DBAPI2 objects are not tested. Please consider using SQLAlchemy.\n",
      "  df = pd.read_sql_query(query, conn)\n"
     ]
    }
   ],
   "source": [
    "\n",
    "# SQL query to fetch data\n",
    "query = \"SELECT * FROM xdr_data ;\"  \n",
    "\n",
    "# Load the data\n",
    "df = fetch_data(query)"
   ]
  },
  {
   "cell_type": "code",
   "execution_count": 17,
   "metadata": {},
   "outputs": [
    {
     "data": {
      "text/html": [
       "<div>\n",
       "<style scoped>\n",
       "    .dataframe tbody tr th:only-of-type {\n",
       "        vertical-align: middle;\n",
       "    }\n",
       "\n",
       "    .dataframe tbody tr th {\n",
       "        vertical-align: top;\n",
       "    }\n",
       "\n",
       "    .dataframe thead th {\n",
       "        text-align: right;\n",
       "    }\n",
       "</style>\n",
       "<table border=\"1\" class=\"dataframe\">\n",
       "  <thead>\n",
       "    <tr style=\"text-align: right;\">\n",
       "      <th></th>\n",
       "      <th>MSISDN/Number</th>\n",
       "      <th>average_rtt_dl</th>\n",
       "      <th>average_rtt_ul</th>\n",
       "      <th>average_bearer_tp_dl</th>\n",
       "      <th>average_bearer_tp_ul</th>\n",
       "      <th>average_tcp_dl_retrans</th>\n",
       "      <th>average_tcp_ul_retrans</th>\n",
       "      <th>handset_type</th>\n",
       "    </tr>\n",
       "  </thead>\n",
       "  <tbody>\n",
       "    <tr>\n",
       "      <th>0</th>\n",
       "      <td>33601001722.00</td>\n",
       "      <td>46.00</td>\n",
       "      <td>0.00</td>\n",
       "      <td>37.00</td>\n",
       "      <td>39.00</td>\n",
       "      <td>16853393.74</td>\n",
       "      <td>624008.18</td>\n",
       "      <td>Huawei P20 Lite Huawei Nova 3E</td>\n",
       "    </tr>\n",
       "    <tr>\n",
       "      <th>1</th>\n",
       "      <td>33601001754.00</td>\n",
       "      <td>30.00</td>\n",
       "      <td>1.00</td>\n",
       "      <td>48.00</td>\n",
       "      <td>51.00</td>\n",
       "      <td>16853393.74</td>\n",
       "      <td>624008.18</td>\n",
       "      <td>Apple iPhone 7 (A1778)</td>\n",
       "    </tr>\n",
       "    <tr>\n",
       "      <th>2</th>\n",
       "      <td>33601002511.00</td>\n",
       "      <td>119.18</td>\n",
       "      <td>16.77</td>\n",
       "      <td>48.00</td>\n",
       "      <td>49.00</td>\n",
       "      <td>16853393.74</td>\n",
       "      <td>624008.18</td>\n",
       "      <td>Unknown</td>\n",
       "    </tr>\n",
       "    <tr>\n",
       "      <th>3</th>\n",
       "      <td>33601007832.00</td>\n",
       "      <td>69.00</td>\n",
       "      <td>15.00</td>\n",
       "      <td>204.00</td>\n",
       "      <td>44.00</td>\n",
       "      <td>1066.00</td>\n",
       "      <td>624008.18</td>\n",
       "      <td>Apple iPhone 5S (A1457)</td>\n",
       "    </tr>\n",
       "    <tr>\n",
       "      <th>4</th>\n",
       "      <td>33601008617.00</td>\n",
       "      <td>57.00</td>\n",
       "      <td>2.50</td>\n",
       "      <td>20197.50</td>\n",
       "      <td>8224.50</td>\n",
       "      <td>9349630.00</td>\n",
       "      <td>21202.00</td>\n",
       "      <td>Apple iPhone Se (A1723)</td>\n",
       "    </tr>\n",
       "  </tbody>\n",
       "</table>\n",
       "</div>"
      ],
      "text/plain": [
       "   MSISDN/Number  average_rtt_dl  average_rtt_ul  average_bearer_tp_dl  \\\n",
       "0 33601001722.00           46.00            0.00                 37.00   \n",
       "1 33601001754.00           30.00            1.00                 48.00   \n",
       "2 33601002511.00          119.18           16.77                 48.00   \n",
       "3 33601007832.00           69.00           15.00                204.00   \n",
       "4 33601008617.00           57.00            2.50              20197.50   \n",
       "\n",
       "   average_bearer_tp_ul  average_tcp_dl_retrans  average_tcp_ul_retrans  \\\n",
       "0                 39.00             16853393.74               624008.18   \n",
       "1                 51.00             16853393.74               624008.18   \n",
       "2                 49.00             16853393.74               624008.18   \n",
       "3                 44.00                 1066.00               624008.18   \n",
       "4               8224.50              9349630.00                21202.00   \n",
       "\n",
       "                     handset_type  \n",
       "0  Huawei P20 Lite Huawei Nova 3E  \n",
       "1          Apple iPhone 7 (A1778)  \n",
       "2                         Unknown  \n",
       "3         Apple iPhone 5S (A1457)  \n",
       "4         Apple iPhone Se (A1723)  "
      ]
     },
     "execution_count": 17,
     "metadata": {},
     "output_type": "execute_result"
    }
   ],
   "source": [
    "#Apply aggregation (as already defined in data_aggregation)\n",
    "aggregated_data = aggregate_user_data(df)\n",
    "# Inspect aggregated data\n",
    "aggregated_data.head()\n"
   ]
  },
  {
   "cell_type": "code",
   "execution_count": 18,
   "metadata": {},
   "outputs": [
    {
     "name": "stdout",
     "output_type": "stream",
     "text": [
      "                Bearer Id            Start  Start ms              End  End ms  \\\n",
      "0 13114483460844900352.00   4/4/2019 12:01    770.00  4/25/2019 14:35  662.00   \n",
      "1 13114483482878900224.00   4/9/2019 13:04    235.00   4/25/2019 8:15  606.00   \n",
      "2 13114483484080500736.00   4/9/2019 17:42      1.00  4/25/2019 11:58  652.00   \n",
      "3 13114483485442799616.00   4/10/2019 0:31    486.00   4/25/2019 7:36  171.00   \n",
      "4 13114483499480700928.00  4/12/2019 20:10    565.00  4/25/2019 10:40  954.00   \n",
      "\n",
      "   Dur. (ms)               IMSI  MSISDN/Number              IMEI  \\\n",
      "0 1823652.00 208201448079117.00 33664962239.00 35521209507511.00   \n",
      "1 1365104.00 208201909211140.00 33681854413.00 35794009006359.00   \n",
      "2 1361762.00 208200314458056.00 33760627129.00 35281510359387.00   \n",
      "3 1321509.00 208201402342131.00 33750343200.00 35356610164913.00   \n",
      "4 1089009.00 208201401415120.00 33699795932.00 35407009745539.00   \n",
      "\n",
      "      Last Location Name  ...  Youtube DL (Bytes)  Youtube UL (Bytes)  \\\n",
      "0  9.16456699548519E+015  ...         15854611.00          2501332.00   \n",
      "1                L77566A  ...         20247395.00         19111729.00   \n",
      "2                D42335A  ...         19725661.00         14699576.00   \n",
      "3                T21824A  ...         21388122.00         15146643.00   \n",
      "4                D88865A  ...         15259380.00         18962873.00   \n",
      "\n",
      "   Netflix DL (Bytes)  Netflix UL (Bytes)  Gaming DL (Bytes)  \\\n",
      "0          8198936.00          9656251.00       278082303.00   \n",
      "1         18338413.00         17227132.00       608750074.00   \n",
      "2         17587794.00          6163408.00       229584621.00   \n",
      "3         13994646.00          1097942.00       799538153.00   \n",
      "4         17124581.00           415218.00       527707248.00   \n",
      "\n",
      "   Gaming UL (Bytes)  Other DL (Bytes)  Other UL (Bytes)  Total UL (Bytes)  \\\n",
      "0        14344150.00      171744450.00        8814393.00       36749741.00   \n",
      "1         1170709.00      526904238.00       15055145.00       53800391.00   \n",
      "2          395630.00      410692588.00        4215763.00       27883638.00   \n",
      "3        10849722.00      749039933.00       12797283.00       43324218.00   \n",
      "4         3529801.00      550709500.00       13910322.00       38542814.00   \n",
      "\n",
      "   Total DL (Bytes)  \n",
      "0      308879636.00  \n",
      "1      653384965.00  \n",
      "2      279807335.00  \n",
      "3      846028530.00  \n",
      "4      569138589.00  \n",
      "\n",
      "[5 rows x 55 columns]\n"
     ]
    }
   ],
   "source": [
    "# Fill missing values without using inplace=True\n",
    "df['TCP DL Retrans. Vol (Bytes)'] = df['TCP DL Retrans. Vol (Bytes)'].fillna(df['TCP DL Retrans. Vol (Bytes)'].mean())\n",
    "df['TCP UL Retrans. Vol (Bytes)'] = df['TCP UL Retrans. Vol (Bytes)'].fillna(df['TCP UL Retrans. Vol (Bytes)'].mean())\n",
    "df['Avg RTT DL (ms)'] = df['Avg RTT DL (ms)'].fillna(df['Avg RTT DL (ms)'].mean())\n",
    "df['Avg RTT UL (ms)'] = df['Avg RTT UL (ms)'].fillna(df['Avg RTT UL (ms)'].mean())\n",
    "df['Avg Bearer TP DL (kbps)'] = df['Avg Bearer TP DL (kbps)'].fillna(df['Avg Bearer TP DL (kbps)'].mean())\n",
    "df['Avg Bearer TP UL (kbps)'] = df['Avg Bearer TP UL (kbps)'].fillna(df['Avg Bearer TP UL (kbps)'].mean())\n",
    "\n",
    "# Replacing missing values in 'Handset Type' with the mode (most frequent value)\n",
    "df['Handset Type'] = df['Handset Type'].fillna(df['Handset Type'].mode()[0])\n",
    "\n",
    "# Check the DataFrame after handling missing values\n",
    "print(df.head())\n"
   ]
  },
  {
   "cell_type": "code",
   "execution_count": 33,
   "metadata": {},
   "outputs": [
    {
     "name": "stdout",
     "output_type": "stream",
     "text": [
      "Top 10 values for the column:\n",
      "77979    4294425570.00\n",
      "135678   4291380336.00\n",
      "34645    4289876615.00\n",
      "140813   4289487601.00\n",
      "3782     4288060364.00\n",
      "119684   4275259349.00\n",
      "39637    4268431996.00\n",
      "76990    4259996826.00\n",
      "59016    4256650017.00\n",
      "41209    4254643827.00\n",
      "Name: TCP DL Retrans. Vol (Bytes), dtype: float64\n"
     ]
    }
   ],
   "source": [
    "# Adjust pandas display settings to avoid scientific notation\n",
    "pd.set_option('display.float_format', '{:.2f}'.format)\n",
    "\n",
    "# Now call the top_10_values function for the specified column\n",
    "column_name = 'TCP DL Retrans. Vol (Bytes)'\n",
    "if column_name in df.columns:\n",
    "    try:\n",
    "        print(\"Top 10 values for the column:\")\n",
    "        print(top_10_values(df, column_name))\n",
    "    except Exception as e:\n",
    "        print(f\"Error in top_10_values function: {e}\")\n",
    "else:\n",
    "    print(f\"Column '{column_name}' does not exist in the DataFrame.\")\n"
   ]
  },
  {
   "cell_type": "code",
   "execution_count": 34,
   "metadata": {},
   "outputs": [
    {
     "name": "stdout",
     "output_type": "stream",
     "text": [
      "Bottom 10 values for the column:\n",
      "59717    2.00\n",
      "125094   2.00\n",
      "2850     4.00\n",
      "39610    4.00\n",
      "52488    4.00\n",
      "60376    4.00\n",
      "60426    4.00\n",
      "75093    4.00\n",
      "100314   4.00\n",
      "143429   4.00\n",
      "Name: TCP DL Retrans. Vol (Bytes), dtype: float64\n"
     ]
    }
   ],
   "source": [
    "# Specify the column name and call the bottom_10_values function\n",
    "if column_name in df.columns:\n",
    "    try:\n",
    "        print(\"Bottom 10 values for the column:\")\n",
    "        print(bottom_10_values(df, column_name))\n",
    "    except Exception as e:\n",
    "        print(f\"Error in bottom_10_values function: {e}\")\n",
    "else:\n",
    "    print(f\"Column '{column_name}' does not exist in the DataFrame.\")\n"
   ]
  },
  {
   "cell_type": "code",
   "execution_count": 35,
   "metadata": {},
   "outputs": [
    {
     "name": "stdout",
     "output_type": "stream",
     "text": [
      "Most frequent values for the column:\n",
      "0   20809914.27\n",
      "Name: TCP DL Retrans. Vol (Bytes), dtype: float64\n"
     ]
    }
   ],
   "source": [
    "# Specify the column name and call the most_frequent_values function\n",
    "if column_name in df.columns:\n",
    "    try:\n",
    "        print(\"Most frequent values for the column:\")\n",
    "        print(most_frequent_values(df, column_name))\n",
    "    except Exception as e:\n",
    "        print(f\"Error in most_frequent_values function: {e}\")\n",
    "else:\n",
    "    print(f\"Column '{column_name}' does not exist in the DataFrame.\")\n"
   ]
  },
  {
   "cell_type": "code",
   "execution_count": 36,
   "metadata": {},
   "outputs": [
    {
     "name": "stdout",
     "output_type": "stream",
     "text": [
      "Improved summary using the first version:\n",
      "     Index  Top 10 Values  Bottom 10 Values  Most Frequent Value(s)\n",
      "0        0            NaN               NaN             20809914.27\n",
      "1     2850            NaN              4.00                     NaN\n",
      "2     3782  4288060364.00               NaN                     NaN\n",
      "3    34645  4289876615.00               NaN                     NaN\n",
      "4    39610            NaN              4.00                     NaN\n",
      "5    39637  4268431996.00               NaN                     NaN\n",
      "6    41209  4254643827.00               NaN                     NaN\n",
      "7    52488            NaN              4.00                     NaN\n",
      "8    59016  4256650017.00               NaN                     NaN\n",
      "9    59717            NaN              2.00                     NaN\n",
      "10   60376            NaN              4.00                     NaN\n",
      "11   60426            NaN              4.00                     NaN\n",
      "12   75093            NaN              4.00                     NaN\n",
      "13   76990  4259996826.00               NaN                     NaN\n",
      "14   77979  4294425570.00               NaN                     NaN\n",
      "15  100314            NaN              4.00                     NaN\n",
      "16  119684  4275259349.00               NaN                     NaN\n",
      "17  125094            NaN              2.00                     NaN\n",
      "18  135678  4291380336.00               NaN                     NaN\n",
      "19  140813  4289487601.00               NaN                     NaN\n",
      "20  143429            NaN              4.00                     NaN\n"
     ]
    }
   ],
   "source": [
    "# Summarizing results for the column 'TCP DL Retrans. Vol (Bytes)'\n",
    "if column_name in df.columns:\n",
    "    try:\n",
    "        print(\"Improved summary using the first version:\")\n",
    "        print(improved_summary(df, column_name))\n",
    "    except Exception as e:\n",
    "        print(f\"Error in improved_summary function: {e}\")\n",
    "else:\n",
    "    print(f\"Column '{column_name}' does not exist in the DataFrame.\")\n"
   ]
  },
  {
   "cell_type": "code",
   "execution_count": 37,
   "metadata": {},
   "outputs": [
    {
     "name": "stdout",
     "output_type": "stream",
     "text": [
      "Improved summary using the second version:\n",
      "   Top 10 Values  Bottom 10 Values  Most Frequent Value(s)\n",
      "0  4294425570.00              2.00             20809914.27\n",
      "1  4291380336.00              2.00             20809914.27\n",
      "2  4289876615.00              4.00             20809914.27\n",
      "3  4289487601.00              4.00             20809914.27\n",
      "4  4288060364.00              4.00             20809914.27\n",
      "5  4275259349.00              4.00             20809914.27\n",
      "6  4268431996.00              4.00             20809914.27\n",
      "7  4259996826.00              4.00             20809914.27\n",
      "8  4256650017.00              4.00             20809914.27\n",
      "9  4254643827.00              4.00             20809914.27\n"
     ]
    }
   ],
   "source": [
    "\n",
    "# Improved summary v2\n",
    "if column_name in df.columns:\n",
    "    try:\n",
    "        print(\"Improved summary using the second version:\")\n",
    "        print(improved_summary_v2(df, column_name))\n",
    "    except Exception as e:\n",
    "        print(f\"Error in improved_summary_v2 function: {e}\")\n",
    "else:\n",
    "    print(f\"Column '{column_name}' does not exist in the DataFrame.\")\n"
   ]
  },
  {
   "cell_type": "code",
   "execution_count": 38,
   "metadata": {},
   "outputs": [
    {
     "name": "stdout",
     "output_type": "stream",
     "text": [
      "Improved summary using the third version:\n",
      "             Top 10 Values  Bottom 10 Values\n",
      "0            4294425570.00              2.00\n",
      "1            4291380336.00              2.00\n",
      "2            4289876615.00              4.00\n",
      "3            4289487601.00              4.00\n",
      "4            4288060364.00              4.00\n",
      "5            4275259349.00              4.00\n",
      "6            4268431996.00              4.00\n",
      "7            4259996826.00              4.00\n",
      "8            4256650017.00              4.00\n",
      "9            4254643827.00              4.00\n",
      "10  Most Frequent Value(s)       20809914.27\n"
     ]
    }
   ],
   "source": [
    "\n",
    "# Improved summary v3\n",
    "if column_name in df.columns:\n",
    "    try:\n",
    "        print(\"Improved summary using the third version:\")\n",
    "        print(improved_summary_v3(df, column_name))\n",
    "    except Exception as e:\n",
    "        print(f\"Error in improved_summary_v3 function: {e}\")\n",
    "else:\n",
    "    print(f\"Column '{column_name}' does not exist in the DataFrame.\")\n"
   ]
  },
  {
   "cell_type": "code",
   "execution_count": 39,
   "metadata": {},
   "outputs": [
    {
     "name": "stdout",
     "output_type": "stream",
     "text": [
      "\n",
      "Top 10 RTT values:\n",
      " 30166    96923.00\n",
      "29927    64640.00\n",
      "17910    55811.00\n",
      "5989     54847.00\n",
      "22851    26971.00\n",
      "23455    26250.00\n",
      "1373     25873.00\n",
      "81274    25602.00\n",
      "97321    25374.00\n",
      "100584   24733.00\n",
      "Name: Avg RTT DL (ms), dtype: float64\n",
      "Bottom 10 RTT values:\n",
      " 42612    0.00\n",
      "52225    0.00\n",
      "60152    0.00\n",
      "61152    0.00\n",
      "61345    0.00\n",
      "103328   0.00\n",
      "124544   0.00\n",
      "142526   0.00\n",
      "143878   0.00\n",
      "71739    2.00\n",
      "Name: Avg RTT DL (ms), dtype: float64\n",
      "Most Frequent RTT value: 109.79570605376027\n"
     ]
    }
   ],
   "source": [
    "\n",
    "# Top, bottom, and most frequent values for 'Avg RTT DL (ms)'\n",
    "rtt_column = 'Avg RTT DL (ms)'\n",
    "\n",
    "if rtt_column in df.columns:\n",
    "    try:\n",
    "        # Top 10 values for RTT\n",
    "        top_10_rtt = df[rtt_column].nlargest(10)\n",
    "        print(\"\\nTop 10 RTT values:\\n\", top_10_rtt)\n",
    "\n",
    "        # Bottom 10 values for RTT\n",
    "        bottom_10_rtt = df[rtt_column].nsmallest(10)\n",
    "        print(\"Bottom 10 RTT values:\\n\", bottom_10_rtt)\n",
    "\n",
    "        # Most frequent RTT value\n",
    "        most_frequent_rtt = df[rtt_column].mode()[0]\n",
    "        print(\"Most Frequent RTT value:\", most_frequent_rtt)\n",
    "    except Exception as e:\n",
    "        print(f\"Error while processing RTT values: {e}\")\n",
    "else:\n",
    "    print(f\"Column '{rtt_column}' does not exist in the DataFrame.\")\n"
   ]
  },
  {
   "cell_type": "code",
   "execution_count": 40,
   "metadata": {},
   "outputs": [
    {
     "name": "stdout",
     "output_type": "stream",
     "text": [
      "\n",
      "Top 10 Throughput values:\n",
      " 120890   378160.00\n",
      "141262   299257.00\n",
      "143670   299002.00\n",
      "149617   276040.00\n",
      "92193    269362.00\n",
      "117791   266332.00\n",
      "115850   265440.00\n",
      "89577    264448.00\n",
      "116565   263047.00\n",
      "41576    254253.00\n",
      "Name: Avg Bearer TP DL (kbps), dtype: float64\n",
      "Bottom 10 Throughput values:\n",
      " 13     0.00\n",
      "149    0.00\n",
      "364    0.00\n",
      "546    0.00\n",
      "618    0.00\n",
      "679    0.00\n",
      "756    0.00\n",
      "809    0.00\n",
      "893    0.00\n",
      "1185   0.00\n",
      "Name: Avg Bearer TP DL (kbps), dtype: float64\n",
      "Most Frequent Throughput value: 23.0\n"
     ]
    }
   ],
   "source": [
    "# Top, bottom, and most frequent values for 'Avg Bearer TP DL (kbps)'\n",
    "throughput_column = 'Avg Bearer TP DL (kbps)'\n",
    "\n",
    "if throughput_column in df.columns:\n",
    "    try:\n",
    "        # Top 10 values for throughput\n",
    "        top_10_throughput = df[throughput_column].nlargest(10)\n",
    "        print(\"\\nTop 10 Throughput values:\\n\", top_10_throughput)\n",
    "\n",
    "        # Bottom 10 values for throughput\n",
    "        bottom_10_throughput = df[throughput_column].nsmallest(10)\n",
    "        print(\"Bottom 10 Throughput values:\\n\", bottom_10_throughput)\n",
    "\n",
    "        # Most frequent throughput value\n",
    "        most_frequent_throughput = df[throughput_column].mode()[0]\n",
    "        print(\"Most Frequent Throughput value:\", most_frequent_throughput)\n",
    "    except Exception as e:\n",
    "        print(f\"Error while processing throughput values: {e}\")\n",
    "else:\n",
    "    print(f\"Column '{throughput_column}' does not exist in the DataFrame.\")\n"
   ]
  },
  {
   "cell_type": "code",
   "execution_count": 42,
   "metadata": {},
   "outputs": [
    {
     "name": "stderr",
     "output_type": "stream",
     "text": [
      "C:\\Users\\Yoni\\AppData\\Local\\Temp\\ipykernel_19576\\3028751406.py:17: FutureWarning: \n",
      "\n",
      "Passing `palette` without assigning `hue` is deprecated and will be removed in v0.14.0. Assign the `x` variable to `hue` and set `legend=False` for the same effect.\n",
      "\n",
      "  sns.barplot(\n"
     ]
    },
    {
     "data": {
      "image/png": "[encoded data removed]",
      "text/plain": [
       "<Figure size 1200x600 with 1 Axes>"
      ]
     },
     "metadata": {},
     "output_type": "display_data"
    }
   ],
   "source": [
    "# Visualization: Top 10 Handset Types by Average Throughput\n",
    "handset_column = 'Handset Type'\n",
    "throughput_column = 'Avg Bearer TP DL (kbps)'\n",
    "\n",
    "if handset_column in df.columns and throughput_column in df.columns:\n",
    "    try:\n",
    "        # Group by handset type and calculate mean throughput\n",
    "        throughput_per_handset = df.groupby(handset_column)[throughput_column].mean().reset_index()\n",
    "\n",
    "        # Sort by throughput and select top 10\n",
    "        top_10_handsets = throughput_per_handset.nlargest(10, throughput_column)\n",
    "\n",
    "        # Check if the grouped data is not empty\n",
    "        if not top_10_handsets.empty:\n",
    "            # Visualization\n",
    "            plt.figure(figsize=(12, 6))\n",
    "            sns.barplot(\n",
    "                data=top_10_handsets,\n",
    "                x=handset_column,\n",
    "                y=throughput_column,\n",
    "                palette='viridis'\n",
    "            )\n",
    "            plt.title('Top 10 Handset Types by Average Throughput')\n",
    "            plt.xlabel('Handset Type')\n",
    "            plt.ylabel('Average Throughput (kbps)')\n",
    "            plt.xticks(rotation=45, ha='right')  # Rotate labels for readability\n",
    "            plt.tight_layout()  # Adjust layout to prevent label cutoff\n",
    "            plt.show()\n",
    "        else:\n",
    "            print(\"No data available for visualization.\")\n",
    "    except Exception as e:\n",
    "        print(f\"Error during visualization: {e}\")\n",
    "else:\n",
    "    print(f\"Required columns '{handset_column}' or '{throughput_column}' do not exist in the DataFrame.\")\n"
   ]
  }
 ],
 "metadata": {
  "kernelspec": {
   "display_name": "venv",
   "language": "python",
   "name": "python3"
  },
  "language_info": {
   "codemirror_mode": {
    "name": "ipython",
    "version": 3
   },
   "file_extension": ".py",
   "mimetype": "text/x-python",
   "name": "python",
   "nbconvert_exporter": "python",
   "pygments_lexer": "ipython3",
   "version": "3.12.8"
  }
 },
 "nbformat": 4,
 "nbformat_minor": 2
}
