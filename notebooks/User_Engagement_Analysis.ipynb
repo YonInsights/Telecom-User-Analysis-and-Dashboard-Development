{
 "cells": [
  {
   "cell_type": "code",
   "execution_count": 14,
   "metadata": {},
   "outputs": [],
   "source": [
    "# Import necessary libraries\n",
    "import os\n",
    "import sys\n",
    "\n",
    "# Add the scripts folder to the Python path\n",
    "sys.path.append(os.path.abspath(\"../scripts\"))\n",
    "import pandas as pd\n",
    "from load_data import fetch_data\n",
    "from sklearn.preprocessing import MinMaxScaler\n",
    "from sklearn.cluster import KMeans\n",
    "\n"
   ]
  },
  {
   "cell_type": "code",
   "execution_count": 5,
   "metadata": {},
   "outputs": [
    {
     "name": "stderr",
     "output_type": "stream",
     "text": [
      "d:\\Kifya_training\\Week 2\\Telecom-User-Analysis-and-Dashboard-Development\\scripts\\load_data.py:31: UserWarning: pandas only supports SQLAlchemy connectable (engine/connection) or database string URI or sqlite3 DBAPI2 connection. Other DBAPI2 objects are not tested. Please consider using SQLAlchemy.\n",
      "  df = pd.read_sql_query(query, conn)\n"
     ]
    }
   ],
   "source": [
    "\n",
    "# SQL query to fetch data\n",
    "query = \"SELECT * FROM xdr_data ;\"  \n",
    "\n",
    "# Load the data\n",
    "df = fetch_data(query)"
   ]
  },
  {
   "cell_type": "code",
   "execution_count": null,
   "metadata": {},
   "outputs": [],
   "source": [
    "\n",
    "# Aggregate the metrics\n",
    "aggregated_metrics = df.groupby('MSISDN/Number').agg({\n",
    "    'Dur. (ms)': 'sum',  # Total session duration per customer\n",
    "    'Total DL (Bytes)': 'sum',  # Total download traffic per customer\n",
    "    'Total UL (Bytes)': 'sum',  # Total upload traffic per customer\n",
    "}).reset_index()\n",
    "\n"
   ]
  },
  {
   "cell_type": "code",
   "execution_count": 7,
   "metadata": {},
   "outputs": [],
   "source": [
    "# Calculate session frequency\n",
    "session_frequency = df['MSISDN/Number'].value_counts().reset_index()\n",
    "session_frequency.columns = ['MSISDN/Number', 'Session Frequency']\n",
    "\n",
    "\n"
   ]
  },
  {
   "cell_type": "code",
   "execution_count": 8,
   "metadata": {},
   "outputs": [],
   "source": [
    "# Merge session frequency with other metrics\n",
    "aggregated_metrics = pd.merge(aggregated_metrics, session_frequency, on='MSISDN/Number')\n",
    "\n",
    "# Calculate total traffic (Download + Upload)\n",
    "aggregated_metrics['Total Traffic (Bytes)'] = aggregated_metrics['Total DL (Bytes)'] + aggregated_metrics['Total UL (Bytes)']\n",
    "\n"
   ]
  },
  {
   "cell_type": "code",
   "execution_count": 9,
   "metadata": {},
   "outputs": [],
   "source": [
    "# Sort the aggregated data by each metric for ranking\n",
    "top_10_duration = aggregated_metrics.sort_values(by='Dur. (ms)', ascending=False).head(10)\n",
    "top_10_traffic = aggregated_metrics.sort_values(by='Total Traffic (Bytes)', ascending=False).head(10)\n",
    "top_10_frequency = aggregated_metrics.sort_values(by='Session Frequency', ascending=False).head(10)\n",
    "\n"
   ]
  },
  {
   "cell_type": "code",
   "execution_count": 10,
   "metadata": {},
   "outputs": [
    {
     "name": "stdout",
     "output_type": "stream",
     "text": [
      "Top 10 Customers by Session Duration:\n",
      "       MSISDN/Number   Dur. (ms)  Total DL (Bytes)  Total UL (Bytes)  \\\n",
      "13180   3.362578e+10  18553754.0      7.770043e+09       729577380.0   \n",
      "6437    3.361489e+10   9966898.0      8.156743e+09       689483001.0   \n",
      "92923   3.376054e+10   9279434.0      7.811295e+09       703478581.0   \n",
      "13526   3.362632e+10   8791927.0      7.301517e+09       669650721.0   \n",
      "65118   3.366716e+10   8744914.0      5.052068e+09       566326364.0   \n",
      "50281   3.366284e+10   6614270.0      3.593674e+09       406424372.0   \n",
      "57160   3.366469e+10   6288730.0      5.279827e+09       402180804.0   \n",
      "666     3.360313e+10   6287761.0      4.540607e+09       435587631.0   \n",
      "66029   3.366746e+10   5649882.0      2.334299e+09       266222647.0   \n",
      "92577   3.376041e+10   5321667.0      6.610852e+09       521518890.0   \n",
      "\n",
      "       Session Frequency  Total Traffic (Bytes)  \n",
      "13180                 17           8.499621e+09  \n",
      "6437                  17           8.846226e+09  \n",
      "92923                 15           8.514774e+09  \n",
      "13526                 18           7.971167e+09  \n",
      "65118                 13           5.618394e+09  \n",
      "50281                  9           4.000098e+09  \n",
      "57160                  9           5.682007e+09  \n",
      "666                   12           4.976195e+09  \n",
      "66029                  6           2.600522e+09  \n",
      "92577                 12           7.132371e+09  \n",
      "\n",
      "Top 10 Customers by Total Traffic:\n",
      "       MSISDN/Number   Dur. (ms)  Total DL (Bytes)  Total UL (Bytes)  \\\n",
      "6437    3.361489e+10   9966898.0      8.156743e+09       689483001.0   \n",
      "92923   3.376054e+10   9279434.0      7.811295e+09       703478581.0   \n",
      "13180   3.362578e+10  18553754.0      7.770043e+09       729577380.0   \n",
      "13526   3.362632e+10   8791927.0      7.301517e+09       669650721.0   \n",
      "76363   3.367588e+10   4865947.0      7.309542e+09       581568792.0   \n",
      "37052   3.365973e+10   4035428.0      7.081602e+09       624260321.0   \n",
      "63028   3.366646e+10   4536757.0      6.903440e+09       405060976.0   \n",
      "92577   3.376041e+10   5321667.0      6.610852e+09       521518890.0   \n",
      "57241   3.366471e+10   2927785.0      6.400774e+09       471244453.0   \n",
      "86455   3.369879e+10   5169128.0      6.010556e+09       530343105.0   \n",
      "\n",
      "       Session Frequency  Total Traffic (Bytes)  \n",
      "6437                  17           8.846226e+09  \n",
      "92923                 15           8.514774e+09  \n",
      "13180                 17           8.499621e+09  \n",
      "13526                 18           7.971167e+09  \n",
      "76363                 15           7.891111e+09  \n",
      "37052                 16           7.705863e+09  \n",
      "63028                 11           7.308501e+09  \n",
      "92577                 12           7.132371e+09  \n",
      "57241                 11           6.872018e+09  \n",
      "86455                 11           6.540899e+09  \n",
      "\n",
      "Top 10 Customers by Session Frequency:\n",
      "       MSISDN/Number   Dur. (ms)  Total DL (Bytes)  Total UL (Bytes)  \\\n",
      "13526   3.362632e+10   8791927.0      7.301517e+09       669650721.0   \n",
      "6437    3.361489e+10   9966898.0      8.156743e+09       689483001.0   \n",
      "13180   3.362578e+10  18553754.0      7.770043e+09       729577380.0   \n",
      "37052   3.365973e+10   4035428.0      7.081602e+09       624260321.0   \n",
      "76363   3.367588e+10   4865947.0      7.309542e+09       581568792.0   \n",
      "92923   3.376054e+10   9279434.0      7.811295e+09       703478581.0   \n",
      "65118   3.366716e+10   8744914.0      5.052068e+09       566326364.0   \n",
      "1279    3.360452e+10   5207990.0      5.096079e+09       391775856.0   \n",
      "92577   3.376041e+10   5321667.0      6.610852e+09       521518890.0   \n",
      "666     3.360313e+10   6287761.0      4.540607e+09       435587631.0   \n",
      "\n",
      "       Session Frequency  Total Traffic (Bytes)  \n",
      "13526                 18           7.971167e+09  \n",
      "6437                  17           8.846226e+09  \n",
      "13180                 17           8.499621e+09  \n",
      "37052                 16           7.705863e+09  \n",
      "76363                 15           7.891111e+09  \n",
      "92923                 15           8.514774e+09  \n",
      "65118                 13           5.618394e+09  \n",
      "1279                  12           5.487855e+09  \n",
      "92577                 12           7.132371e+09  \n",
      "666                   12           4.976195e+09  \n"
     ]
    }
   ],
   "source": [
    "# Display the top 10 customers for each metric\n",
    "print(\"Top 10 Customers by Session Duration:\")\n",
    "print(top_10_duration)\n",
    "\n",
    "print(\"\\nTop 10 Customers by Total Traffic:\")\n",
    "print(top_10_traffic)\n",
    "\n",
    "print(\"\\nTop 10 Customers by Session Frequency:\")\n",
    "print(top_10_frequency)"
   ]
  },
  {
   "cell_type": "code",
   "execution_count": 12,
   "metadata": {},
   "outputs": [],
   "source": [
    "\n",
    "\n",
    "# Select the metrics for normalization\n",
    "metrics_to_normalize = ['Session Frequency', 'Dur. (ms)', 'Total Traffic (Bytes)']\n",
    "\n",
    "# Initialize the scaler\n",
    "scaler = MinMaxScaler()\n",
    "\n",
    "# Normalize the metrics\n",
    "normalized_data = scaler.fit_transform(aggregated_metrics[metrics_to_normalize])\n",
    "\n",
    "# Convert normalized data back to a DataFrame\n",
    "normalized_df = pd.DataFrame(normalized_data, columns=metrics_to_normalize)\n",
    "\n",
    "# Add the MSISDN/Number column to the normalized DataFrame for reference\n",
    "normalized_df['MSISDN/Number'] = aggregated_metrics['MSISDN/Number']\n",
    "\n",
    "\n"
   ]
  },
  {
   "cell_type": "code",
   "execution_count": 13,
   "metadata": {},
   "outputs": [
    {
     "name": "stdout",
     "output_type": "stream",
     "text": [
      "Normalized Data:\n",
      "   Session Frequency  Dur. (ms)  Total Traffic (Bytes)  MSISDN/Number\n",
      "0           0.000000   0.005908               0.095931   3.360100e+10\n",
      "1           0.000000   0.009387               0.014026   3.360100e+10\n",
      "2           0.000000   0.006892               0.063851   3.360100e+10\n",
      "3           0.000000   0.002304               0.044148   3.360101e+10\n",
      "4           0.058824   0.001615               0.161598   3.360101e+10\n"
     ]
    }
   ],
   "source": [
    "# Display the first few rows of the normalized data\n",
    "print(\"Normalized Data:\")\n",
    "print(normalized_df.head())"
   ]
  },
  {
   "cell_type": "code",
   "execution_count": 15,
   "metadata": {},
   "outputs": [
    {
     "name": "stderr",
     "output_type": "stream",
     "text": [
      "d:\\Kifya_training\\Week 2\\Telecom-User-Analysis-and-Dashboard-Development\\venv\\Lib\\site-packages\\joblib\\externals\\loky\\backend\\context.py:136: UserWarning: Could not find the number of physical cores for the following reason:\n",
      "[WinError 2] The system cannot find the file specified\n",
      "Returning the number of logical cores instead. You can silence this warning by setting LOKY_MAX_CPU_COUNT to the number of cores you want to use.\n",
      "  warnings.warn(\n",
      "  File \"d:\\Kifya_training\\Week 2\\Telecom-User-Analysis-and-Dashboard-Development\\venv\\Lib\\site-packages\\joblib\\externals\\loky\\backend\\context.py\", line 257, in _count_physical_cores\n",
      "    cpu_info = subprocess.run(\n",
      "               ^^^^^^^^^^^^^^^\n",
      "  File \"C:\\Users\\Yoni\\AppData\\Local\\Programs\\Python\\Python312\\Lib\\subprocess.py\", line 548, in run\n",
      "    with Popen(*popenargs, **kwargs) as process:\n",
      "         ^^^^^^^^^^^^^^^^^^^^^^^^^^^\n",
      "  File \"C:\\Users\\Yoni\\AppData\\Local\\Programs\\Python\\Python312\\Lib\\subprocess.py\", line 1026, in __init__\n",
      "    self._execute_child(args, executable, preexec_fn, close_fds,\n",
      "  File \"C:\\Users\\Yoni\\AppData\\Local\\Programs\\Python\\Python312\\Lib\\subprocess.py\", line 1538, in _execute_child\n",
      "    hp, ht, pid, tid = _winapi.CreateProcess(executable, args,\n",
      "                       ^^^^^^^^^^^^^^^^^^^^^^^^^^^^^^^^^^^^^^^\n"
     ]
    },
    {
     "name": "stdout",
     "output_type": "stream",
     "text": [
      "Aggregated Metrics with Clusters:\n",
      "   MSISDN/Number  Dur. (ms)  Total DL (Bytes)  Total UL (Bytes)  \\\n",
      "0   3.360100e+10   116720.0      8.426375e+08        36053108.0   \n",
      "1   3.360100e+10   181230.0      1.207552e+08        36104459.0   \n",
      "2   3.360100e+10   134969.0      5.566597e+08        39306820.0   \n",
      "3   3.360101e+10    49878.0      4.019932e+08        20327526.0   \n",
      "4   3.360101e+10    37104.0      1.363130e+09        94280527.0   \n",
      "\n",
      "   Session Frequency  Total Traffic (Bytes)  Cluster  \n",
      "0                  1           8.786906e+08        2  \n",
      "1                  1           1.568596e+08        2  \n",
      "2                  1           5.959665e+08        2  \n",
      "3                  1           4.223207e+08        2  \n",
      "4                  2           1.457411e+09        0  \n",
      "\n",
      "Number of Customers in Each Cluster:\n",
      "Cluster\n",
      "2    81158\n",
      "0    21630\n",
      "1     4068\n",
      "Name: count, dtype: int64\n"
     ]
    }
   ],
   "source": [
    "\n",
    "\n",
    "# Initialize the K-Means model with k=3\n",
    "kmeans = KMeans(n_clusters=3, random_state=42)\n",
    "\n",
    "# Fit the model on the normalized metrics\n",
    "kmeans.fit(normalized_data)\n",
    "\n",
    "# Add the cluster labels to the original data\n",
    "aggregated_metrics['Cluster'] = kmeans.labels_\n",
    "\n",
    "# Display the first few rows with cluster assignments\n",
    "print(\"Aggregated Metrics with Clusters:\")\n",
    "print(aggregated_metrics.head())\n",
    "\n",
    "# Display the number of customers in each cluster\n",
    "print(\"\\nNumber of Customers in Each Cluster:\")\n",
    "print(aggregated_metrics['Cluster'].value_counts())\n"
   ]
  },
  {
   "cell_type": "code",
   "execution_count": 16,
   "metadata": {},
   "outputs": [
    {
     "name": "stdout",
     "output_type": "stream",
     "text": [
      "Cluster Summary Statistics:\n",
      "        Dur. (ms)                                           \\\n",
      "              min         max           mean           sum   \n",
      "Cluster                                                      \n",
      "0         18235.0   3174824.0  213600.528202  4.620179e+09   \n",
      "1         46896.0  18553754.0  569329.970747  2.316034e+09   \n",
      "2          7142.0   1573420.0  106984.202543  8.682624e+09   \n",
      "\n",
      "        Total Traffic (Bytes)                                            \\\n",
      "                          min           max          mean           sum   \n",
      "Cluster                                                                   \n",
      "0                2.842182e+08  1.873330e+09  1.125421e+09  2.434285e+13   \n",
      "1                1.085994e+09  8.846226e+09  2.280321e+09  9.276344e+12   \n",
      "2                3.324901e+07  9.507607e+08  4.955057e+08  4.021425e+13   \n",
      "\n",
      "        Session Frequency                       \n",
      "                      min max      mean    sum  \n",
      "Cluster                                         \n",
      "0                       2   4  2.176052  47068  \n",
      "1                       3  18  4.248279  17282  \n",
      "2                       1   2  1.042226  84585  \n"
     ]
    }
   ],
   "source": [
    "# Define the metrics for analysis\n",
    "metrics = ['Dur. (ms)', 'Total Traffic (Bytes)', 'Session Frequency']\n",
    "\n",
    "# Compute summary statistics for each cluster\n",
    "cluster_summary = aggregated_metrics.groupby('Cluster')[metrics].agg(['min', 'max', 'mean', 'sum'])\n",
    "\n",
    "# Display the summary statistics\n",
    "print(\"Cluster Summary Statistics:\")\n",
    "print(cluster_summary)\n"
   ]
  }
 ],
 "metadata": {
  "kernelspec": {
   "display_name": "venv",
   "language": "python",
   "name": "python3"
  },
  "language_info": {
   "codemirror_mode": {
    "name": "ipython",
    "version": 3
   },
   "file_extension": ".py",
   "mimetype": "text/x-python",
   "name": "python",
   "nbconvert_exporter": "python",
   "pygments_lexer": "ipython3",
   "version": "3.12.8"
  }
 },
 "nbformat": 4,
 "nbformat_minor": 2
}
